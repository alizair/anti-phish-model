{
 "cells": [
  {
   "cell_type": "markdown",
   "id": "5120d95b-4e91-418a-9f5a-0ae0f5509e96",
   "metadata": {},
   "source": [
    "**Important for the comparison study**\n",
    "\n",
    "All training runs/ models have to use the same exact training/ testing/ validation sets, therefore we all start with this.\n",
    "\n",
    "We created 3 csv files with the training, validation, and testing data."
   ]
  },
  {
   "cell_type": "code",
   "execution_count": 2,
   "id": "3217942a-8533-4866-bb0c-800c89bd4920",
   "metadata": {},
   "outputs": [
    {
     "name": "stdout",
     "output_type": "stream",
     "text": [
      "Splits saved: train_split.csv (60%), val_split.csv (20%), test_split.csv (20%)\n"
     ]
    }
   ],
   "source": [
    "import pandas as pd\n",
    "from sklearn.model_selection import train_test_split\n",
    "\n",
    "# 1. Load dataset\n",
    "df = pd.read_csv(\"../../datasets/final_dataset.csv\")\n",
    "\n",
    "# (Optional) combine subject + body into a single column if that's what you'll train on,\n",
    "#df[\"text\"] = df[\"subject\"].fillna(\"\") + \" \" + df[\"body\"].fillna(\"\")\n",
    "\n",
    "X = df[[\"subject\", \"body\", \"urls\"]]  # keep raw columns, you can vectorize later\n",
    "y = df[\"isPhishing\"]\n",
    "\n",
    "# 4. First split: train (60%) and temp (40%), random_state the same for all runs!!!! this ensures we all have the same data\n",
    "X_train, X_temp, y_train, y_temp = train_test_split(\n",
    "    X, y, test_size=0.4, random_state=42, stratify=y\n",
    ")\n",
    "\n",
    "# 5. Split temp into validation (20%) and test (20%)\n",
    "X_val, X_test, y_val, y_test = train_test_split(\n",
    "    X_temp, y_temp, test_size=0.5, random_state=42, stratify=y_temp\n",
    ")\n",
    "\n",
    "# 6. Save splits to CSV\n",
    "train_df = X_train.copy()\n",
    "train_df[\"isPhishing\"] = y_train\n",
    "train_df.to_csv(\"../split_dataset/train_split.csv\", index=False)\n",
    "\n",
    "val_df = X_val.copy()\n",
    "val_df[\"isPhishing\"] = y_val\n",
    "val_df.to_csv(\"../split_dataset/val_split.csv\", index=False)\n",
    "\n",
    "test_df = X_test.copy()\n",
    "test_df[\"isPhishing\"] = y_test\n",
    "test_df.to_csv(\"../split_dataset/test_split.csv\", index=False)\n",
    "\n",
    "print(\"Splits saved: train_split.csv (60%), val_split.csv (20%), test_split.csv (20%)\")\n"
   ]
  },
  {
   "cell_type": "code",
   "execution_count": null,
   "id": "1066c361-7a23-4fa9-9c3c-d09cf95319e7",
   "metadata": {},
   "outputs": [],
   "source": []
  }
 ],
 "metadata": {
  "kernelspec": {
   "display_name": "Python 3 (ipykernel)",
   "language": "python",
   "name": "python3"
  },
  "language_info": {
   "codemirror_mode": {
    "name": "ipython",
    "version": 3
   },
   "file_extension": ".py",
   "mimetype": "text/x-python",
   "name": "python",
   "nbconvert_exporter": "python",
   "pygments_lexer": "ipython3",
   "version": "3.12.5"
  }
 },
 "nbformat": 4,
 "nbformat_minor": 5
}
