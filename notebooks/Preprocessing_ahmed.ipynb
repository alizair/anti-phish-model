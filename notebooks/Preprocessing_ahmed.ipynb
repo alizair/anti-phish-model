{
 "cells": [
  {
   "cell_type": "markdown",
   "id": "78e0d1b5-46b4-48ae-a396-6f7fc563c960",
   "metadata": {},
   "source": [
    "# Problem Identification:\n",
    "Our project is concerned with classifying phishing vs non-phishing emails accurately. Given the nature of our datasets and task, we will be conducting Supervised Learning (Classification)."
   ]
  },
  {
   "cell_type": "markdown",
   "id": "e2933e06-c0a7-486f-acb2-a97c275d08c4",
   "metadata": {},
   "source": [
    "# Importing Necessary Libraries"
   ]
  },
  {
   "cell_type": "code",
   "execution_count": 1,
   "id": "b5ba575a-dfed-4808-95cb-90c41e1f0185",
   "metadata": {},
   "outputs": [],
   "source": [
    "import pandas as pd\n",
    "import numpy as np\n",
    "import os"
   ]
  },
  {
   "cell_type": "markdown",
   "id": "83f4682d-036f-4f27-bc7d-7899163e6028",
   "metadata": {},
   "source": [
    "# Data Cleaning"
   ]
  },
  {
   "cell_type": "markdown",
   "id": "4deab319-2f0c-4a41-8f5e-1fbd7146ef72",
   "metadata": {
    "jp-MarkdownHeadingCollapsed": true
   },
   "source": [
    "#### **Datasets Used**:\n",
    "\n",
    "- **Figshare: Seven Phishing Email Datasets**  \n",
    "  Link: [https://figshare.com/articles/dataset/Seven_Phishing_Email_Datasets/25432108](https://figshare.com/articles/dataset/Seven_Phishing_Email_Datasets/25432108)  \n",
    "  Subsets: Assassin, Ling, Enron, TREC05, TREC06, TREC07, CEAS08  \n",
    "\n",
    "- **Kaggle: Phishing Email Dataset**  \n",
    "  Link: [https://www.kaggle.com/datasets/naserabdullahalam/phishing-email-dataset](https://www.kaggle.com/datasets/naserabdullahalam/phishing-email-dataset)  \n",
    "  Subsets: Nazario, Nigerian_Fraud  \n",
    "\n",
    "- **Kaggle: Phishing Email Data by Type**  \n",
    "  Link: [https://www.kaggle.com/datasets/charlottehall/phishing-email-data-by-type](https://www.kaggle.com/datasets/charlottehall/phishing-email-data-by-type)  \n",
    "  Subset: phishing_data_by_type  \n",
    "\n",
    "- **Kaggle: Human & LLM Generated Emails**  \n",
    "  Link: [https://www.kaggle.com/datasets/francescogreco97/human-llm-generated-phishing-legitimate-emails](https://www.kaggle.com/datasets/francescogreco97/human-llm-generated-phishing-legitimate-emails)  \n",
    "  Subsets: legit, phishing  \n",
    "\n",
    "- **Kaggle: Phishing Persuasion Dataset**  \n",
    "  Link: [https://www.kaggle.com/datasets/ahmadtijjani/phishing-urgency-authority-persuasion](https://www.kaggle.com/datasets/ahmadtijjani/phishing-urgency-authority-persuasion)  \n",
    "  Subset: phishing_dataset_with_category  \n"
   ]
  },
  {
   "cell_type": "markdown",
   "id": "bd7ed6f6-2208-4e76-ba31-905a754a7200",
   "metadata": {},
   "source": [
    "#### Load the Datasets into Dataframes:"
   ]
  },
  {
   "cell_type": "code",
   "execution_count": 2,
   "id": "78fdbb43-d788-46a5-b7c5-5b870fce0e24",
   "metadata": {},
   "outputs": [],
   "source": [
    "assassin_df = pd.read_csv('../datasets/Assassin.csv', low_memory=False)\n",
    "ceas_df = pd.read_csv('../datasets/CEAS_08.csv', low_memory=False)\n",
    "enron_df = pd.read_csv('../datasets/Enron.csv', low_memory=False)\n",
    "ling_df = pd.read_csv('../datasets/Ling.csv', low_memory=False)\n",
    "trec05_df = pd.read_csv('../datasets/TREC_05.csv', engine='python', on_bad_lines='skip')\n",
    "trec06_df = pd.read_csv('../datasets/TREC_06.csv', engine='python', on_bad_lines='skip')\n",
    "trec07_df = pd.read_csv('../datasets/TREC_07.csv', engine='python', on_bad_lines='skip')\n",
    "nazario_df = pd.read_csv('../datasets/Nazario.csv')\n",
    "nigerian_df = pd.read_csv('../datasets/Nigerian_Fraud.csv')\n",
    "phishingtype_df = pd.read_csv('../datasets/phishing_data_by_type.csv')\n",
    "legit_df = pd.read_csv('../datasets/legit.csv')\n",
    "phishing_df = pd.read_csv('../datasets/phishing.csv', engine='python', on_bad_lines='skip')\n",
    "phishingcatagory_df = pd.read_csv('../datasets/phishing_dataset_with_category.csv')"
   ]
  },
  {
   "cell_type": "markdown",
   "id": "b34ae360-2d3d-4609-adcf-462b872bbfe0",
   "metadata": {},
   "source": [
    "We did engine='python' and on_bad_lines='skip' because there may be some malformed lines and this might help us to read the data better."
   ]
  },
  {
   "cell_type": "markdown",
   "id": "0ca974c5-0de8-4563-8cf4-8f5f1f37371c",
   "metadata": {},
   "source": [
    "### Dataset 1: Assassin.csv"
   ]
  },
  {
   "cell_type": "markdown",
   "id": "1fdb7cee-adf2-498d-a2b1-95ca8bd8908a",
   "metadata": {},
   "source": [
    "First things first, we will be observing what the Dataset looks like to get a feel for what we are working with."
   ]
  },
  {
   "cell_type": "code",
   "execution_count": 3,
   "id": "10c40e34-77f6-4aeb-8f80-af645b622f46",
   "metadata": {},
   "outputs": [
    {
     "name": "stdout",
     "output_type": "stream",
     "text": [
      "<class 'pandas.core.frame.DataFrame'>\n",
      "RangeIndex: 5809 entries, 0 to 5808\n",
      "Data columns (total 7 columns):\n",
      " #   Column    Non-Null Count  Dtype \n",
      "---  ------    --------------  ----- \n",
      " 0   sender    5809 non-null   object\n",
      " 1   receiver  5599 non-null   object\n",
      " 2   date      5809 non-null   object\n",
      " 3   subject   5793 non-null   object\n",
      " 4   body      5808 non-null   object\n",
      " 5   label     5809 non-null   int64 \n",
      " 6   urls      5809 non-null   int64 \n",
      "dtypes: int64(2), object(5)\n",
      "memory usage: 317.8+ KB\n"
     ]
    },
    {
     "data": {
      "text/html": [
       "<div>\n",
       "<style scoped>\n",
       "    .dataframe tbody tr th:only-of-type {\n",
       "        vertical-align: middle;\n",
       "    }\n",
       "\n",
       "    .dataframe tbody tr th {\n",
       "        vertical-align: top;\n",
       "    }\n",
       "\n",
       "    .dataframe thead th {\n",
       "        text-align: right;\n",
       "    }\n",
       "</style>\n",
       "<table border=\"1\" class=\"dataframe\">\n",
       "  <thead>\n",
       "    <tr style=\"text-align: right;\">\n",
       "      <th></th>\n",
       "      <th>sender</th>\n",
       "      <th>receiver</th>\n",
       "      <th>date</th>\n",
       "      <th>subject</th>\n",
       "      <th>body</th>\n",
       "      <th>label</th>\n",
       "      <th>urls</th>\n",
       "    </tr>\n",
       "  </thead>\n",
       "  <tbody>\n",
       "    <tr>\n",
       "      <th>0</th>\n",
       "      <td>Robert Elz &lt;kre@munnari.OZ.AU&gt;</td>\n",
       "      <td>Chris Garrigues &lt;cwg-dated-1030377287.06fa6d@D...</td>\n",
       "      <td>Thu, 22 Aug 2002 18:26:25 +0700</td>\n",
       "      <td>Re: New Sequences Window</td>\n",
       "      <td>Date:        Wed, 21 Aug 2002 10:54:46 -0500  ...</td>\n",
       "      <td>0</td>\n",
       "      <td>1</td>\n",
       "    </tr>\n",
       "    <tr>\n",
       "      <th>1</th>\n",
       "      <td>Steve Burt &lt;Steve_Burt@cursor-system.com&gt;</td>\n",
       "      <td>\"'zzzzteana@yahoogroups.com'\" &lt;zzzzteana@yahoo...</td>\n",
       "      <td>Thu, 22 Aug 2002 12:46:18 +0100</td>\n",
       "      <td>[zzzzteana] RE: Alexander</td>\n",
       "      <td>Martin A posted:\\nTassos Papadopoulos, the Gre...</td>\n",
       "      <td>0</td>\n",
       "      <td>1</td>\n",
       "    </tr>\n",
       "    <tr>\n",
       "      <th>2</th>\n",
       "      <td>\"Tim Chapman\" &lt;timc@2ubh.com&gt;</td>\n",
       "      <td>zzzzteana &lt;zzzzteana@yahoogroups.com&gt;</td>\n",
       "      <td>Thu, 22 Aug 2002 13:52:38 +0100</td>\n",
       "      <td>[zzzzteana] Moscow bomber</td>\n",
       "      <td>Man Threatens Explosion In Moscow \\n\\nThursday...</td>\n",
       "      <td>0</td>\n",
       "      <td>1</td>\n",
       "    </tr>\n",
       "    <tr>\n",
       "      <th>3</th>\n",
       "      <td>Monty Solomon &lt;monty@roscom.com&gt;</td>\n",
       "      <td>undisclosed-recipient: ;</td>\n",
       "      <td>Thu, 22 Aug 2002 09:15:25 -0400</td>\n",
       "      <td>[IRR] Klez: The Virus That  Won't Die</td>\n",
       "      <td>Klez: The Virus That Won't Die\\n \\nAlready the...</td>\n",
       "      <td>0</td>\n",
       "      <td>1</td>\n",
       "    </tr>\n",
       "    <tr>\n",
       "      <th>4</th>\n",
       "      <td>Stewart Smith &lt;Stewart.Smith@ee.ed.ac.uk&gt;</td>\n",
       "      <td>zzzzteana@yahoogroups.com</td>\n",
       "      <td>Thu, 22 Aug 2002 14:38:22 +0100</td>\n",
       "      <td>Re: [zzzzteana] Nothing like mama used to make</td>\n",
       "      <td>&gt;  in adding cream to spaghetti carbonara, whi...</td>\n",
       "      <td>0</td>\n",
       "      <td>1</td>\n",
       "    </tr>\n",
       "  </tbody>\n",
       "</table>\n",
       "</div>"
      ],
      "text/plain": [
       "                                      sender  \\\n",
       "0             Robert Elz <kre@munnari.OZ.AU>   \n",
       "1  Steve Burt <Steve_Burt@cursor-system.com>   \n",
       "2              \"Tim Chapman\" <timc@2ubh.com>   \n",
       "3           Monty Solomon <monty@roscom.com>   \n",
       "4  Stewart Smith <Stewart.Smith@ee.ed.ac.uk>   \n",
       "\n",
       "                                            receiver  \\\n",
       "0  Chris Garrigues <cwg-dated-1030377287.06fa6d@D...   \n",
       "1  \"'zzzzteana@yahoogroups.com'\" <zzzzteana@yahoo...   \n",
       "2              zzzzteana <zzzzteana@yahoogroups.com>   \n",
       "3                           undisclosed-recipient: ;   \n",
       "4                          zzzzteana@yahoogroups.com   \n",
       "\n",
       "                              date  \\\n",
       "0  Thu, 22 Aug 2002 18:26:25 +0700   \n",
       "1  Thu, 22 Aug 2002 12:46:18 +0100   \n",
       "2  Thu, 22 Aug 2002 13:52:38 +0100   \n",
       "3  Thu, 22 Aug 2002 09:15:25 -0400   \n",
       "4  Thu, 22 Aug 2002 14:38:22 +0100   \n",
       "\n",
       "                                          subject  \\\n",
       "0                        Re: New Sequences Window   \n",
       "1                       [zzzzteana] RE: Alexander   \n",
       "2                       [zzzzteana] Moscow bomber   \n",
       "3           [IRR] Klez: The Virus That  Won't Die   \n",
       "4  Re: [zzzzteana] Nothing like mama used to make   \n",
       "\n",
       "                                                body  label  urls  \n",
       "0  Date:        Wed, 21 Aug 2002 10:54:46 -0500  ...      0     1  \n",
       "1  Martin A posted:\\nTassos Papadopoulos, the Gre...      0     1  \n",
       "2  Man Threatens Explosion In Moscow \\n\\nThursday...      0     1  \n",
       "3  Klez: The Virus That Won't Die\\n \\nAlready the...      0     1  \n",
       "4  >  in adding cream to spaghetti carbonara, whi...      0     1  "
      ]
     },
     "execution_count": 3,
     "metadata": {},
     "output_type": "execute_result"
    }
   ],
   "source": [
    "assassin_df.info()\n",
    "assassin_df.head()"
   ]
  },
  {
   "cell_type": "markdown",
   "id": "b164a31f-7745-40df-a490-ae0522247227",
   "metadata": {},
   "source": [
    "From this we understand that this dataset has 5809 rows of data and 7 columns.\n",
    "\n",
    "We will most probably drop the sender and reciever columns later on as these are unique identifiers, and don't want to train the model on this.\n",
    "\n",
    "It seems there are around 16 rows which do not have a subject and 1 row that doesn't have a body. This is fine as sometimes emails do not have this anyway, so perhaps there may not be any harm to include such rows. \n"
   ]
  },
  {
   "cell_type": "code",
   "execution_count": 4,
   "id": "7f78701d-21f3-4f69-9cfd-a8fea3f9a505",
   "metadata": {},
   "outputs": [
    {
     "name": "stdout",
     "output_type": "stream",
     "text": [
      "Number of Duplicate Rows:  0 \n",
      "\n",
      "Empty DataFrame\n",
      "Columns: [sender, receiver, date, subject, body, label, urls]\n",
      "Index: []\n"
     ]
    }
   ],
   "source": [
    "print(\"Number of Duplicate Rows: \",assassin_df.duplicated().sum(),'\\n')\n",
    "print(assassin_df[assassin_df.duplicated('body')])"
   ]
  },
  {
   "cell_type": "markdown",
   "id": "43b49710-db4a-46d2-9164-6a6306348c31",
   "metadata": {},
   "source": [
    "Additionally, there do not seem to be duplicate rows which is also a plus. We can do more thorough checking by searching for duplicates in the body area only, actually this may be better and it seems there are still no duplicates."
   ]
  },
  {
   "cell_type": "code",
   "execution_count": 5,
   "id": "9b92bb79-dff7-4b7f-bf43-e2ed78cb4186",
   "metadata": {},
   "outputs": [
    {
     "data": {
      "text/plain": [
       "sender      2523\n",
       "receiver    1598\n",
       "date        5557\n",
       "subject     4187\n",
       "body        5808\n",
       "label          2\n",
       "urls           2\n",
       "dtype: int64"
      ]
     },
     "execution_count": 5,
     "metadata": {},
     "output_type": "execute_result"
    }
   ],
   "source": [
    "assassin_df.nunique()"
   ]
  },
  {
   "cell_type": "markdown",
   "id": "05d211f3-26df-44e8-b493-26f590f040b5",
   "metadata": {},
   "source": [
    "From this we can understand that the 'label' and 'urls' columns are formatted in 0 and 1 which is what we desire, hence no need to normalize the labels as there are only 2 to begin with. Interestingly, the subject has lower number of unique values than the body, indicating that the same subject may have been used for different emails."
   ]
  },
  {
   "cell_type": "code",
   "execution_count": 6,
   "id": "844a5560-4ffe-4f0f-95f4-a2e532e66787",
   "metadata": {},
   "outputs": [],
   "source": [
    "assassin_df.rename(columns={'label': 'isPhishing'}, inplace=True)"
   ]
  },
  {
   "cell_type": "markdown",
   "id": "4d1db37b-8be3-47ec-b7bf-fce58b0e3987",
   "metadata": {},
   "source": [
    "Here, we have fixed the column name of 'label' to 'isPhishing' for clarity and consistency through the datasets."
   ]
  },
  {
   "cell_type": "code",
   "execution_count": 7,
   "id": "dedb6f22-91be-41e0-b67a-4dff163e8887",
   "metadata": {},
   "outputs": [
    {
     "name": "stdout",
     "output_type": "stream",
     "text": [
      "<class 'pandas.core.frame.DataFrame'>\n",
      "RangeIndex: 5809 entries, 0 to 5808\n",
      "Data columns (total 7 columns):\n",
      " #   Column      Non-Null Count  Dtype         \n",
      "---  ------      --------------  -----         \n",
      " 0   sender      5809 non-null   object        \n",
      " 1   receiver    5599 non-null   object        \n",
      " 2   date        5355 non-null   datetime64[ns]\n",
      " 3   subject     5793 non-null   object        \n",
      " 4   body        5808 non-null   object        \n",
      " 5   isPhishing  5809 non-null   int64         \n",
      " 6   urls        5809 non-null   int64         \n",
      "dtypes: datetime64[ns](1), int64(2), object(4)\n",
      "memory usage: 317.8+ KB\n"
     ]
    },
    {
     "data": {
      "text/html": [
       "<div>\n",
       "<style scoped>\n",
       "    .dataframe tbody tr th:only-of-type {\n",
       "        vertical-align: middle;\n",
       "    }\n",
       "\n",
       "    .dataframe tbody tr th {\n",
       "        vertical-align: top;\n",
       "    }\n",
       "\n",
       "    .dataframe thead th {\n",
       "        text-align: right;\n",
       "    }\n",
       "</style>\n",
       "<table border=\"1\" class=\"dataframe\">\n",
       "  <thead>\n",
       "    <tr style=\"text-align: right;\">\n",
       "      <th></th>\n",
       "      <th>sender</th>\n",
       "      <th>receiver</th>\n",
       "      <th>date</th>\n",
       "      <th>subject</th>\n",
       "      <th>body</th>\n",
       "      <th>isPhishing</th>\n",
       "      <th>urls</th>\n",
       "    </tr>\n",
       "  </thead>\n",
       "  <tbody>\n",
       "    <tr>\n",
       "      <th>0</th>\n",
       "      <td>Robert Elz &lt;kre@munnari.OZ.AU&gt;</td>\n",
       "      <td>Chris Garrigues &lt;cwg-dated-1030377287.06fa6d@D...</td>\n",
       "      <td>2002-08-22</td>\n",
       "      <td>Re: New Sequences Window</td>\n",
       "      <td>Date:        Wed, 21 Aug 2002 10:54:46 -0500  ...</td>\n",
       "      <td>0</td>\n",
       "      <td>1</td>\n",
       "    </tr>\n",
       "    <tr>\n",
       "      <th>1</th>\n",
       "      <td>Steve Burt &lt;Steve_Burt@cursor-system.com&gt;</td>\n",
       "      <td>\"'zzzzteana@yahoogroups.com'\" &lt;zzzzteana@yahoo...</td>\n",
       "      <td>2002-08-22</td>\n",
       "      <td>[zzzzteana] RE: Alexander</td>\n",
       "      <td>Martin A posted:\\nTassos Papadopoulos, the Gre...</td>\n",
       "      <td>0</td>\n",
       "      <td>1</td>\n",
       "    </tr>\n",
       "    <tr>\n",
       "      <th>2</th>\n",
       "      <td>\"Tim Chapman\" &lt;timc@2ubh.com&gt;</td>\n",
       "      <td>zzzzteana &lt;zzzzteana@yahoogroups.com&gt;</td>\n",
       "      <td>2002-08-22</td>\n",
       "      <td>[zzzzteana] Moscow bomber</td>\n",
       "      <td>Man Threatens Explosion In Moscow \\n\\nThursday...</td>\n",
       "      <td>0</td>\n",
       "      <td>1</td>\n",
       "    </tr>\n",
       "    <tr>\n",
       "      <th>3</th>\n",
       "      <td>Monty Solomon &lt;monty@roscom.com&gt;</td>\n",
       "      <td>undisclosed-recipient: ;</td>\n",
       "      <td>2002-08-22</td>\n",
       "      <td>[IRR] Klez: The Virus That  Won't Die</td>\n",
       "      <td>Klez: The Virus That Won't Die\\n \\nAlready the...</td>\n",
       "      <td>0</td>\n",
       "      <td>1</td>\n",
       "    </tr>\n",
       "    <tr>\n",
       "      <th>4</th>\n",
       "      <td>Stewart Smith &lt;Stewart.Smith@ee.ed.ac.uk&gt;</td>\n",
       "      <td>zzzzteana@yahoogroups.com</td>\n",
       "      <td>2002-08-22</td>\n",
       "      <td>Re: [zzzzteana] Nothing like mama used to make</td>\n",
       "      <td>&gt;  in adding cream to spaghetti carbonara, whi...</td>\n",
       "      <td>0</td>\n",
       "      <td>1</td>\n",
       "    </tr>\n",
       "  </tbody>\n",
       "</table>\n",
       "</div>"
      ],
      "text/plain": [
       "                                      sender  \\\n",
       "0             Robert Elz <kre@munnari.OZ.AU>   \n",
       "1  Steve Burt <Steve_Burt@cursor-system.com>   \n",
       "2              \"Tim Chapman\" <timc@2ubh.com>   \n",
       "3           Monty Solomon <monty@roscom.com>   \n",
       "4  Stewart Smith <Stewart.Smith@ee.ed.ac.uk>   \n",
       "\n",
       "                                            receiver       date  \\\n",
       "0  Chris Garrigues <cwg-dated-1030377287.06fa6d@D... 2002-08-22   \n",
       "1  \"'zzzzteana@yahoogroups.com'\" <zzzzteana@yahoo... 2002-08-22   \n",
       "2              zzzzteana <zzzzteana@yahoogroups.com> 2002-08-22   \n",
       "3                           undisclosed-recipient: ; 2002-08-22   \n",
       "4                          zzzzteana@yahoogroups.com 2002-08-22   \n",
       "\n",
       "                                          subject  \\\n",
       "0                        Re: New Sequences Window   \n",
       "1                       [zzzzteana] RE: Alexander   \n",
       "2                       [zzzzteana] Moscow bomber   \n",
       "3           [IRR] Klez: The Virus That  Won't Die   \n",
       "4  Re: [zzzzteana] Nothing like mama used to make   \n",
       "\n",
       "                                                body  isPhishing  urls  \n",
       "0  Date:        Wed, 21 Aug 2002 10:54:46 -0500  ...           0     1  \n",
       "1  Martin A posted:\\nTassos Papadopoulos, the Gre...           0     1  \n",
       "2  Man Threatens Explosion In Moscow \\n\\nThursday...           0     1  \n",
       "3  Klez: The Virus That Won't Die\\n \\nAlready the...           0     1  \n",
       "4  >  in adding cream to spaghetti carbonara, whi...           0     1  "
      ]
     },
     "execution_count": 7,
     "metadata": {},
     "output_type": "execute_result"
    }
   ],
   "source": [
    "assassin_df['date'] = pd.to_datetime(assassin_df['date'].str.extract(r'(\\w{3}, \\d{1,2} \\w{3} \\d{4})')[0], format='%a, %d %b %Y',\n",
    "    errors='coerce'\n",
    ")\n",
    "\n",
    "assassin_df.info()\n",
    "assassin_df.head()"
   ]
  },
  {
   "cell_type": "markdown",
   "id": "3a00b717-5ef8-41b0-9ab4-a0ba05e7260f",
   "metadata": {},
   "source": [
    "I have converted the date strings/object to a datetime object instead for easier handling. Perhaps, this can help us when splitting the dataset in a timewise fashion."
   ]
  },
  {
   "cell_type": "code",
   "execution_count": 8,
   "id": "a0b9bdc4-bd75-4496-877b-aba5409c0c6a",
   "metadata": {},
   "outputs": [
    {
     "name": "stdout",
     "output_type": "stream",
     "text": [
      "<class 'pandas.core.frame.DataFrame'>\n",
      "RangeIndex: 5809 entries, 0 to 5808\n",
      "Data columns (total 5 columns):\n",
      " #   Column      Non-Null Count  Dtype         \n",
      "---  ------      --------------  -----         \n",
      " 0   date        5355 non-null   datetime64[ns]\n",
      " 1   subject     5793 non-null   object        \n",
      " 2   body        5808 non-null   object        \n",
      " 3   isPhishing  5809 non-null   int64         \n",
      " 4   urls        5809 non-null   int64         \n",
      "dtypes: datetime64[ns](1), int64(2), object(2)\n",
      "memory usage: 227.0+ KB\n"
     ]
    }
   ],
   "source": [
    "assassin_df.drop(columns=['sender','receiver'], inplace=True)\n",
    "assassin_df.info()"
   ]
  },
  {
   "cell_type": "markdown",
   "id": "dde3c77e-4b64-4ae4-81be-68904097f5cb",
   "metadata": {
    "jp-MarkdownHeadingCollapsed": true
   },
   "source": [
    "### Dataset 2: Ling.csv"
   ]
  },
  {
   "cell_type": "code",
   "execution_count": null,
   "id": "383b94dd-c6ca-4b01-a3ea-757f2aeddaf3",
   "metadata": {},
   "outputs": [],
   "source": []
  },
  {
   "cell_type": "code",
   "execution_count": null,
   "id": "a2e85ad8-2447-482d-b6af-702d8b81ebc5",
   "metadata": {},
   "outputs": [],
   "source": []
  },
  {
   "cell_type": "code",
   "execution_count": null,
   "id": "b3071a1a-611d-4087-9113-0aa945145ba2",
   "metadata": {},
   "outputs": [],
   "source": []
  },
  {
   "cell_type": "code",
   "execution_count": null,
   "id": "40775353-f85a-452b-80df-2496b831ee4a",
   "metadata": {},
   "outputs": [],
   "source": []
  },
  {
   "cell_type": "markdown",
   "id": "378fbb67-08ac-48ae-a7a8-a5e68dc34095",
   "metadata": {},
   "source": [
    "### Dataset 3: Enron.csv"
   ]
  },
  {
   "cell_type": "markdown",
   "id": "bf5def8e-aeab-482d-ab93-8517c741e824",
   "metadata": {},
   "source": [
    "### Dataset 4: TREC_05.csv"
   ]
  },
  {
   "cell_type": "markdown",
   "id": "02483709-b512-49a8-8dc6-040b48f8f1b3",
   "metadata": {},
   "source": [
    "### Dataset 5: TREC_06.csv"
   ]
  },
  {
   "cell_type": "markdown",
   "id": "0c3e17f8-4329-46e2-b2a4-00f6cfd7e636",
   "metadata": {},
   "source": [
    "### Dataset 6: TREC_07.csv"
   ]
  },
  {
   "cell_type": "markdown",
   "id": "90714ac2-2a11-4b65-8011-b151f97a28a6",
   "metadata": {},
   "source": [
    "### Dataset 7: CEAS_08.csv"
   ]
  },
  {
   "cell_type": "markdown",
   "id": "edaff07e-75ae-4d97-a095-7c8699597355",
   "metadata": {
    "jp-MarkdownHeadingCollapsed": true
   },
   "source": [
    "### Dataset 8: Nazario.csv"
   ]
  },
  {
   "cell_type": "code",
   "execution_count": 9,
   "id": "945a1999-1140-40d9-a229-78848d91ddd4",
   "metadata": {},
   "outputs": [
    {
     "name": "stdout",
     "output_type": "stream",
     "text": [
      "<class 'pandas.core.frame.DataFrame'>\n",
      "RangeIndex: 1565 entries, 0 to 1564\n",
      "Data columns (total 7 columns):\n",
      " #   Column    Non-Null Count  Dtype \n",
      "---  ------    --------------  ----- \n",
      " 0   sender    1565 non-null   object\n",
      " 1   receiver  1469 non-null   object\n",
      " 2   date      1564 non-null   object\n",
      " 3   subject   1561 non-null   object\n",
      " 4   body      1565 non-null   object\n",
      " 5   urls      1565 non-null   int64 \n",
      " 6   label     1565 non-null   int64 \n",
      "dtypes: int64(2), object(5)\n",
      "memory usage: 85.7+ KB\n"
     ]
    },
    {
     "data": {
      "text/html": [
       "<div>\n",
       "<style scoped>\n",
       "    .dataframe tbody tr th:only-of-type {\n",
       "        vertical-align: middle;\n",
       "    }\n",
       "\n",
       "    .dataframe tbody tr th {\n",
       "        vertical-align: top;\n",
       "    }\n",
       "\n",
       "    .dataframe thead th {\n",
       "        text-align: right;\n",
       "    }\n",
       "</style>\n",
       "<table border=\"1\" class=\"dataframe\">\n",
       "  <thead>\n",
       "    <tr style=\"text-align: right;\">\n",
       "      <th></th>\n",
       "      <th>sender</th>\n",
       "      <th>receiver</th>\n",
       "      <th>date</th>\n",
       "      <th>subject</th>\n",
       "      <th>body</th>\n",
       "      <th>urls</th>\n",
       "      <th>label</th>\n",
       "    </tr>\n",
       "  </thead>\n",
       "  <tbody>\n",
       "    <tr>\n",
       "      <th>0</th>\n",
       "      <td>Mail System Internal Data &lt;MAILER-DAEMON@monke...</td>\n",
       "      <td>NaN</td>\n",
       "      <td>28 Sep 2017 09:57:25 -0400</td>\n",
       "      <td>DON'T DELETE THIS MESSAGE -- FOLDER INTERNAL DATA</td>\n",
       "      <td>This text is part of the internal format of yo...</td>\n",
       "      <td>1</td>\n",
       "      <td>1</td>\n",
       "    </tr>\n",
       "    <tr>\n",
       "      <th>1</th>\n",
       "      <td>cPanel &lt;service@cpanel.com&gt;</td>\n",
       "      <td>jose@monkey.org</td>\n",
       "      <td>Fri, 30 Oct 2015 00:00:48 -0500</td>\n",
       "      <td>Verify Your Account</td>\n",
       "      <td>Business with  \\t\\t\\t\\t\\t\\t\\t\\tcPanel &amp; WHM \\t...</td>\n",
       "      <td>1</td>\n",
       "      <td>1</td>\n",
       "    </tr>\n",
       "    <tr>\n",
       "      <th>2</th>\n",
       "      <td>Microsoft Outlook &lt;recepcao@unimedceara.com.br&gt;</td>\n",
       "      <td>NaN</td>\n",
       "      <td>Fri, 30 Oct 2015 06:21:59 -0300 (BRT)</td>\n",
       "      <td>Helpdesk Mailbox Alert!!!</td>\n",
       "      <td>Your two incoming mails were placed on pending...</td>\n",
       "      <td>1</td>\n",
       "      <td>1</td>\n",
       "    </tr>\n",
       "    <tr>\n",
       "      <th>3</th>\n",
       "      <td>Ann Garcia &lt;AnGarcia@mcoe.org&gt;</td>\n",
       "      <td>\"info@maaaaa.org\" &lt;info@maaaaa.org&gt;</td>\n",
       "      <td>Fri, 30 Oct 2015 14:54:33 +0000</td>\n",
       "      <td>IT-Service Help Desk</td>\n",
       "      <td>Password will expire in 3 days. Click Here To ...</td>\n",
       "      <td>0</td>\n",
       "      <td>1</td>\n",
       "    </tr>\n",
       "    <tr>\n",
       "      <th>4</th>\n",
       "      <td>\"USAA\" &lt;usaaacctupdate@sccu4u.com&gt;</td>\n",
       "      <td>Recipients &lt;usaaacctupdate@sccu4u.com&gt;</td>\n",
       "      <td>Fri, 30 Oct 2015 14:02:33 -0500</td>\n",
       "      <td>Final USAA Reminder - Update Your Account Now</td>\n",
       "      <td>To ensure delivery to your inbox, please add U...</td>\n",
       "      <td>1</td>\n",
       "      <td>1</td>\n",
       "    </tr>\n",
       "  </tbody>\n",
       "</table>\n",
       "</div>"
      ],
      "text/plain": [
       "                                              sender  \\\n",
       "0  Mail System Internal Data <MAILER-DAEMON@monke...   \n",
       "1                        cPanel <service@cpanel.com>   \n",
       "2    Microsoft Outlook <recepcao@unimedceara.com.br>   \n",
       "3                     Ann Garcia <AnGarcia@mcoe.org>   \n",
       "4                 \"USAA\" <usaaacctupdate@sccu4u.com>   \n",
       "\n",
       "                                 receiver  \\\n",
       "0                                     NaN   \n",
       "1                         jose@monkey.org   \n",
       "2                                     NaN   \n",
       "3     \"info@maaaaa.org\" <info@maaaaa.org>   \n",
       "4  Recipients <usaaacctupdate@sccu4u.com>   \n",
       "\n",
       "                                    date  \\\n",
       "0             28 Sep 2017 09:57:25 -0400   \n",
       "1        Fri, 30 Oct 2015 00:00:48 -0500   \n",
       "2  Fri, 30 Oct 2015 06:21:59 -0300 (BRT)   \n",
       "3        Fri, 30 Oct 2015 14:54:33 +0000   \n",
       "4        Fri, 30 Oct 2015 14:02:33 -0500   \n",
       "\n",
       "                                             subject  \\\n",
       "0  DON'T DELETE THIS MESSAGE -- FOLDER INTERNAL DATA   \n",
       "1                                Verify Your Account   \n",
       "2                          Helpdesk Mailbox Alert!!!   \n",
       "3                               IT-Service Help Desk   \n",
       "4      Final USAA Reminder - Update Your Account Now   \n",
       "\n",
       "                                                body  urls  label  \n",
       "0  This text is part of the internal format of yo...     1      1  \n",
       "1  Business with  \\t\\t\\t\\t\\t\\t\\t\\tcPanel & WHM \\t...     1      1  \n",
       "2  Your two incoming mails were placed on pending...     1      1  \n",
       "3  Password will expire in 3 days. Click Here To ...     0      1  \n",
       "4  To ensure delivery to your inbox, please add U...     1      1  "
      ]
     },
     "execution_count": 9,
     "metadata": {},
     "output_type": "execute_result"
    }
   ],
   "source": [
    "nazario_df.info()\n",
    "nazario_df.head()"
   ]
  },
  {
   "cell_type": "markdown",
   "id": "90d2b2cc-a9d6-49e8-9489-591768a79b6e",
   "metadata": {},
   "source": [
    "This dataset has 1565 rows of data and 7 columns. There are mostly non-null values, which is what we want."
   ]
  },
  {
   "cell_type": "code",
   "execution_count": 10,
   "id": "90fcd96c-bd12-456e-8bd7-78ec5e5bb2d1",
   "metadata": {},
   "outputs": [
    {
     "name": "stdout",
     "output_type": "stream",
     "text": [
      "Number of Duplicate Rows:  0 \n",
      "\n",
      "Empty DataFrame\n",
      "Columns: [sender, receiver, date, subject, body, urls, label]\n",
      "Index: []\n"
     ]
    }
   ],
   "source": [
    "print(\"Number of Duplicate Rows: \",nazario_df.duplicated().sum(),'\\n')\n",
    "print(nazario_df[nazario_df.duplicated('body')])"
   ]
  },
  {
   "cell_type": "markdown",
   "id": "8e3a79e7-6c07-4654-8a59-09bf453c17e4",
   "metadata": {},
   "source": [
    "Everything seems to be a unique row of data has we have checked for duplicated in our points of interest (body and overall rows)."
   ]
  },
  {
   "cell_type": "code",
   "execution_count": 11,
   "id": "b8787959-0671-4ff9-a91e-680c982a7b84",
   "metadata": {},
   "outputs": [
    {
     "data": {
      "text/plain": [
       "sender      1438\n",
       "receiver     356\n",
       "date        1564\n",
       "subject     1419\n",
       "body        1565\n",
       "urls           2\n",
       "label          1\n",
       "dtype: int64"
      ]
     },
     "execution_count": 11,
     "metadata": {},
     "output_type": "execute_result"
    }
   ],
   "source": [
    "nazario_df.nunique()"
   ]
  },
  {
   "cell_type": "markdown",
   "id": "99a22adc-7ca7-450f-8e94-7bb1184e1049",
   "metadata": {},
   "source": [
    "Interestingly, this means that all the emails we have here are classified as phishing.\n",
    "Subject lines tend to be repeated but the content within the emails (body) seems to still be different."
   ]
  },
  {
   "cell_type": "code",
   "execution_count": 12,
   "id": "ba799fae-893e-404a-938e-db8b9750801e",
   "metadata": {},
   "outputs": [],
   "source": [
    "nazario_df.rename(columns={'label': 'isPhishing'}, inplace=True)"
   ]
  },
  {
   "cell_type": "code",
   "execution_count": 13,
   "id": "65035ae9-74ba-4e4a-8a72-1814cea51a28",
   "metadata": {},
   "outputs": [],
   "source": [
    "nazario_df['date'] = pd.to_datetime(nazario_df['date'].str.extract(r'(\\w{3}, \\d{1,2} \\w{3} \\d{4})')[0], format='%a, %d %b %Y')"
   ]
  },
  {
   "cell_type": "code",
   "execution_count": 15,
   "id": "31a61284-8c03-470c-ada6-e62e43648b62",
   "metadata": {},
   "outputs": [
    {
     "name": "stdout",
     "output_type": "stream",
     "text": [
      "<class 'pandas.core.frame.DataFrame'>\n",
      "RangeIndex: 1565 entries, 0 to 1564\n",
      "Data columns (total 7 columns):\n",
      " #   Column      Non-Null Count  Dtype         \n",
      "---  ------      --------------  -----         \n",
      " 0   sender      1565 non-null   object        \n",
      " 1   receiver    1469 non-null   object        \n",
      " 2   date        1140 non-null   datetime64[ns]\n",
      " 3   subject     1561 non-null   object        \n",
      " 4   body        1565 non-null   object        \n",
      " 5   urls        1565 non-null   int64         \n",
      " 6   isPhishing  1565 non-null   int64         \n",
      "dtypes: datetime64[ns](1), int64(2), object(4)\n",
      "memory usage: 85.7+ KB\n"
     ]
    },
    {
     "data": {
      "text/html": [
       "<div>\n",
       "<style scoped>\n",
       "    .dataframe tbody tr th:only-of-type {\n",
       "        vertical-align: middle;\n",
       "    }\n",
       "\n",
       "    .dataframe tbody tr th {\n",
       "        vertical-align: top;\n",
       "    }\n",
       "\n",
       "    .dataframe thead th {\n",
       "        text-align: right;\n",
       "    }\n",
       "</style>\n",
       "<table border=\"1\" class=\"dataframe\">\n",
       "  <thead>\n",
       "    <tr style=\"text-align: right;\">\n",
       "      <th></th>\n",
       "      <th>sender</th>\n",
       "      <th>receiver</th>\n",
       "      <th>date</th>\n",
       "      <th>subject</th>\n",
       "      <th>body</th>\n",
       "      <th>urls</th>\n",
       "      <th>isPhishing</th>\n",
       "    </tr>\n",
       "  </thead>\n",
       "  <tbody>\n",
       "    <tr>\n",
       "      <th>0</th>\n",
       "      <td>Mail System Internal Data &lt;MAILER-DAEMON@monke...</td>\n",
       "      <td>NaN</td>\n",
       "      <td>NaT</td>\n",
       "      <td>DON'T DELETE THIS MESSAGE -- FOLDER INTERNAL DATA</td>\n",
       "      <td>This text is part of the internal format of yo...</td>\n",
       "      <td>1</td>\n",
       "      <td>1</td>\n",
       "    </tr>\n",
       "    <tr>\n",
       "      <th>1</th>\n",
       "      <td>cPanel &lt;service@cpanel.com&gt;</td>\n",
       "      <td>jose@monkey.org</td>\n",
       "      <td>2015-10-30</td>\n",
       "      <td>Verify Your Account</td>\n",
       "      <td>Business with  \\t\\t\\t\\t\\t\\t\\t\\tcPanel &amp; WHM \\t...</td>\n",
       "      <td>1</td>\n",
       "      <td>1</td>\n",
       "    </tr>\n",
       "    <tr>\n",
       "      <th>2</th>\n",
       "      <td>Microsoft Outlook &lt;recepcao@unimedceara.com.br&gt;</td>\n",
       "      <td>NaN</td>\n",
       "      <td>2015-10-30</td>\n",
       "      <td>Helpdesk Mailbox Alert!!!</td>\n",
       "      <td>Your two incoming mails were placed on pending...</td>\n",
       "      <td>1</td>\n",
       "      <td>1</td>\n",
       "    </tr>\n",
       "    <tr>\n",
       "      <th>3</th>\n",
       "      <td>Ann Garcia &lt;AnGarcia@mcoe.org&gt;</td>\n",
       "      <td>\"info@maaaaa.org\" &lt;info@maaaaa.org&gt;</td>\n",
       "      <td>2015-10-30</td>\n",
       "      <td>IT-Service Help Desk</td>\n",
       "      <td>Password will expire in 3 days. Click Here To ...</td>\n",
       "      <td>0</td>\n",
       "      <td>1</td>\n",
       "    </tr>\n",
       "    <tr>\n",
       "      <th>4</th>\n",
       "      <td>\"USAA\" &lt;usaaacctupdate@sccu4u.com&gt;</td>\n",
       "      <td>Recipients &lt;usaaacctupdate@sccu4u.com&gt;</td>\n",
       "      <td>2015-10-30</td>\n",
       "      <td>Final USAA Reminder - Update Your Account Now</td>\n",
       "      <td>To ensure delivery to your inbox, please add U...</td>\n",
       "      <td>1</td>\n",
       "      <td>1</td>\n",
       "    </tr>\n",
       "  </tbody>\n",
       "</table>\n",
       "</div>"
      ],
      "text/plain": [
       "                                              sender  \\\n",
       "0  Mail System Internal Data <MAILER-DAEMON@monke...   \n",
       "1                        cPanel <service@cpanel.com>   \n",
       "2    Microsoft Outlook <recepcao@unimedceara.com.br>   \n",
       "3                     Ann Garcia <AnGarcia@mcoe.org>   \n",
       "4                 \"USAA\" <usaaacctupdate@sccu4u.com>   \n",
       "\n",
       "                                 receiver       date  \\\n",
       "0                                     NaN        NaT   \n",
       "1                         jose@monkey.org 2015-10-30   \n",
       "2                                     NaN 2015-10-30   \n",
       "3     \"info@maaaaa.org\" <info@maaaaa.org> 2015-10-30   \n",
       "4  Recipients <usaaacctupdate@sccu4u.com> 2015-10-30   \n",
       "\n",
       "                                             subject  \\\n",
       "0  DON'T DELETE THIS MESSAGE -- FOLDER INTERNAL DATA   \n",
       "1                                Verify Your Account   \n",
       "2                          Helpdesk Mailbox Alert!!!   \n",
       "3                               IT-Service Help Desk   \n",
       "4      Final USAA Reminder - Update Your Account Now   \n",
       "\n",
       "                                                body  urls  isPhishing  \n",
       "0  This text is part of the internal format of yo...     1           1  \n",
       "1  Business with  \\t\\t\\t\\t\\t\\t\\t\\tcPanel & WHM \\t...     1           1  \n",
       "2  Your two incoming mails were placed on pending...     1           1  \n",
       "3  Password will expire in 3 days. Click Here To ...     0           1  \n",
       "4  To ensure delivery to your inbox, please add U...     1           1  "
      ]
     },
     "execution_count": 15,
     "metadata": {},
     "output_type": "execute_result"
    }
   ],
   "source": [
    "nazario_df.info()\n",
    "nazario_df.head()"
   ]
  },
  {
   "cell_type": "code",
   "execution_count": 16,
   "id": "b153a9f9-d00b-4a34-b146-750ba2bef499",
   "metadata": {},
   "outputs": [
    {
     "name": "stdout",
     "output_type": "stream",
     "text": [
      "<class 'pandas.core.frame.DataFrame'>\n",
      "RangeIndex: 1565 entries, 0 to 1564\n",
      "Data columns (total 5 columns):\n",
      " #   Column      Non-Null Count  Dtype         \n",
      "---  ------      --------------  -----         \n",
      " 0   date        1140 non-null   datetime64[ns]\n",
      " 1   subject     1561 non-null   object        \n",
      " 2   body        1565 non-null   object        \n",
      " 3   urls        1565 non-null   int64         \n",
      " 4   isPhishing  1565 non-null   int64         \n",
      "dtypes: datetime64[ns](1), int64(2), object(2)\n",
      "memory usage: 61.3+ KB\n"
     ]
    }
   ],
   "source": [
    "nazario_df.drop(columns=['sender','receiver'], inplace=True)\n",
    "nazario_df.info()"
   ]
  },
  {
   "cell_type": "markdown",
   "id": "413e27de-2ab0-48f6-8767-655f8eb82257",
   "metadata": {},
   "source": [
    "### Dataset 9: Nigerian_Fraud.csv"
   ]
  },
  {
   "cell_type": "markdown",
   "id": "925c9819-3669-4022-a64d-d35da8dab2d9",
   "metadata": {},
   "source": [
    "### Dataset 10: phishing_data_by_type.csv"
   ]
  },
  {
   "cell_type": "markdown",
   "id": "6266a33c-05aa-4946-be93-a3e95d3bdf3c",
   "metadata": {},
   "source": [
    "### Dataset 11: legit.csv"
   ]
  },
  {
   "cell_type": "code",
   "execution_count": 22,
   "id": "eaadcd36-0927-4f0c-a248-676c332ec524",
   "metadata": {},
   "outputs": [
    {
     "name": "stdout",
     "output_type": "stream",
     "text": [
      "<class 'pandas.core.frame.DataFrame'>\n",
      "RangeIndex: 1000 entries, 0 to 999\n",
      "Data columns (total 2 columns):\n",
      " #   Column  Non-Null Count  Dtype \n",
      "---  ------  --------------  ----- \n",
      " 0   text    1000 non-null   object\n",
      " 1   label   1000 non-null   int64 \n",
      "dtypes: int64(1), object(1)\n",
      "memory usage: 15.8+ KB\n"
     ]
    },
    {
     "data": {
      "text/html": [
       "<div>\n",
       "<style scoped>\n",
       "    .dataframe tbody tr th:only-of-type {\n",
       "        vertical-align: middle;\n",
       "    }\n",
       "\n",
       "    .dataframe tbody tr th {\n",
       "        vertical-align: top;\n",
       "    }\n",
       "\n",
       "    .dataframe thead th {\n",
       "        text-align: right;\n",
       "    }\n",
       "</style>\n",
       "<table border=\"1\" class=\"dataframe\">\n",
       "  <thead>\n",
       "    <tr style=\"text-align: right;\">\n",
       "      <th></th>\n",
       "      <th>text</th>\n",
       "      <th>label</th>\n",
       "    </tr>\n",
       "  </thead>\n",
       "  <tbody>\n",
       "    <tr>\n",
       "      <th>0</th>\n",
       "      <td>Dear Michael, I hope this message finds you we...</td>\n",
       "      <td>1</td>\n",
       "    </tr>\n",
       "    <tr>\n",
       "      <th>1</th>\n",
       "      <td>Dear Jennifer, We hope you're doing well. We'r...</td>\n",
       "      <td>1</td>\n",
       "    </tr>\n",
       "    <tr>\n",
       "      <th>2</th>\n",
       "      <td>Dear Robert, Your attention is urgently requir...</td>\n",
       "      <td>1</td>\n",
       "    </tr>\n",
       "    <tr>\n",
       "      <th>3</th>\n",
       "      <td>Dear Emily, We're writing to remind you of the...</td>\n",
       "      <td>1</td>\n",
       "    </tr>\n",
       "    <tr>\n",
       "      <th>4</th>\n",
       "      <td>Dear William, We need your immediate attention...</td>\n",
       "      <td>1</td>\n",
       "    </tr>\n",
       "  </tbody>\n",
       "</table>\n",
       "</div>"
      ],
      "text/plain": [
       "                                                text  label\n",
       "0  Dear Michael, I hope this message finds you we...      1\n",
       "1  Dear Jennifer, We hope you're doing well. We'r...      1\n",
       "2  Dear Robert, Your attention is urgently requir...      1\n",
       "3  Dear Emily, We're writing to remind you of the...      1\n",
       "4  Dear William, We need your immediate attention...      1"
      ]
     },
     "execution_count": 22,
     "metadata": {},
     "output_type": "execute_result"
    }
   ],
   "source": [
    "legit_df.info()\n",
    "legit_df.head()"
   ]
  },
  {
   "cell_type": "code",
   "execution_count": 29,
   "id": "aaa4dbcb-7873-4d2d-8868-17897efe87a0",
   "metadata": {},
   "outputs": [
    {
     "name": "stdout",
     "output_type": "stream",
     "text": [
      "Number of Duplicate Rows:  2 \n",
      "\n",
      "                                                  text  label\n",
      "387  Dear Michael, I hope this message finds you we...      1\n",
      "388  Dear Sarah, I trust this email finds you well....      1\n"
     ]
    }
   ],
   "source": [
    "print(\"Number of Duplicate Rows: \",legit_df.duplicated().sum(),'\\n')\n",
    "print(legit_df[legit_df.duplicated('text')])"
   ]
  },
  {
   "cell_type": "markdown",
   "id": "c2e78f4c-72e9-4a66-978d-a6a71e44d248",
   "metadata": {},
   "source": [
    "This is quite odd as these entries are clearly different but for some reason marked as a duplicate?"
   ]
  },
  {
   "cell_type": "code",
   "execution_count": 30,
   "id": "f7175310-f178-4350-ab52-30ad93fd8ccb",
   "metadata": {},
   "outputs": [
    {
     "data": {
      "text/plain": [
       "text     998\n",
       "label      1\n",
       "dtype: int64"
      ]
     },
     "execution_count": 30,
     "metadata": {},
     "output_type": "execute_result"
    }
   ],
   "source": [
    "legit_df.nunique()"
   ]
  },
  {
   "cell_type": "markdown",
   "id": "4fc57fcf-1900-40db-a0e4-8dd061c31d7c",
   "metadata": {},
   "source": [
    "label is as expected and so is text (mostly), save for the other 2 that we got above..."
   ]
  },
  {
   "cell_type": "code",
   "execution_count": 32,
   "id": "3d24317c-167c-4c38-bf64-d25cd2986a1b",
   "metadata": {},
   "outputs": [
    {
     "name": "stdout",
     "output_type": "stream",
     "text": [
      "<class 'pandas.core.frame.DataFrame'>\n",
      "RangeIndex: 1000 entries, 0 to 999\n",
      "Data columns (total 2 columns):\n",
      " #   Column      Non-Null Count  Dtype \n",
      "---  ------      --------------  ----- \n",
      " 0   body        1000 non-null   object\n",
      " 1   isPhishing  1000 non-null   int64 \n",
      "dtypes: int64(1), object(1)\n",
      "memory usage: 15.8+ KB\n"
     ]
    },
    {
     "data": {
      "text/html": [
       "<div>\n",
       "<style scoped>\n",
       "    .dataframe tbody tr th:only-of-type {\n",
       "        vertical-align: middle;\n",
       "    }\n",
       "\n",
       "    .dataframe tbody tr th {\n",
       "        vertical-align: top;\n",
       "    }\n",
       "\n",
       "    .dataframe thead th {\n",
       "        text-align: right;\n",
       "    }\n",
       "</style>\n",
       "<table border=\"1\" class=\"dataframe\">\n",
       "  <thead>\n",
       "    <tr style=\"text-align: right;\">\n",
       "      <th></th>\n",
       "      <th>body</th>\n",
       "      <th>isPhishing</th>\n",
       "    </tr>\n",
       "  </thead>\n",
       "  <tbody>\n",
       "    <tr>\n",
       "      <th>0</th>\n",
       "      <td>Dear Michael, I hope this message finds you we...</td>\n",
       "      <td>1</td>\n",
       "    </tr>\n",
       "    <tr>\n",
       "      <th>1</th>\n",
       "      <td>Dear Jennifer, We hope you're doing well. We'r...</td>\n",
       "      <td>1</td>\n",
       "    </tr>\n",
       "    <tr>\n",
       "      <th>2</th>\n",
       "      <td>Dear Robert, Your attention is urgently requir...</td>\n",
       "      <td>1</td>\n",
       "    </tr>\n",
       "    <tr>\n",
       "      <th>3</th>\n",
       "      <td>Dear Emily, We're writing to remind you of the...</td>\n",
       "      <td>1</td>\n",
       "    </tr>\n",
       "    <tr>\n",
       "      <th>4</th>\n",
       "      <td>Dear William, We need your immediate attention...</td>\n",
       "      <td>1</td>\n",
       "    </tr>\n",
       "  </tbody>\n",
       "</table>\n",
       "</div>"
      ],
      "text/plain": [
       "                                                body  isPhishing\n",
       "0  Dear Michael, I hope this message finds you we...           1\n",
       "1  Dear Jennifer, We hope you're doing well. We'r...           1\n",
       "2  Dear Robert, Your attention is urgently requir...           1\n",
       "3  Dear Emily, We're writing to remind you of the...           1\n",
       "4  Dear William, We need your immediate attention...           1"
      ]
     },
     "execution_count": 32,
     "metadata": {},
     "output_type": "execute_result"
    }
   ],
   "source": [
    "legit_df.rename(columns={'label': 'isPhishing','text': 'body'}, inplace=True)\n",
    "legit_df.info()\n",
    "legit_df.head()"
   ]
  },
  {
   "cell_type": "markdown",
   "id": "7094afeb-aad2-444d-a2b9-e7a483d835ae",
   "metadata": {},
   "source": [
    "### Dataset 12: phishing.csv"
   ]
  },
  {
   "cell_type": "markdown",
   "id": "6f266461-8cbf-41b6-9f6c-c63d123b6687",
   "metadata": {},
   "source": [
    "### Dataset 13: phishing_dataset_with_category.csv"
   ]
  },
  {
   "cell_type": "markdown",
   "id": "5d46584c-6537-473f-a51d-1329a80c20a5",
   "metadata": {},
   "source": [
    "### Final Grouping/Merging:"
   ]
  },
  {
   "cell_type": "markdown",
   "id": "c403ff75-0c71-4c0c-9dc4-38b58fa25054",
   "metadata": {},
   "source": [
    "# Data Preparation"
   ]
  },
  {
   "cell_type": "code",
   "execution_count": null,
   "id": "d8c4022f-a9bc-497c-8973-f562f1c06feb",
   "metadata": {},
   "outputs": [],
   "source": []
  },
  {
   "cell_type": "code",
   "execution_count": null,
   "id": "52887bd7-256c-4be2-949c-6c84c3ca453c",
   "metadata": {},
   "outputs": [],
   "source": []
  }
 ],
 "metadata": {
  "kernelspec": {
   "display_name": "Python 3.13",
   "language": "python",
   "name": "py313"
  },
  "language_info": {
   "codemirror_mode": {
    "name": "ipython",
    "version": 3
   },
   "file_extension": ".py",
   "mimetype": "text/x-python",
   "name": "python",
   "nbconvert_exporter": "python",
   "pygments_lexer": "ipython3",
   "version": "3.13.7"
  }
 },
 "nbformat": 4,
 "nbformat_minor": 5
}
